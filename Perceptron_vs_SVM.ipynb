{
  "nbformat": 4,
  "nbformat_minor": 0,
  "metadata": {
    "colab": {
      "provenance": [],
      "toc_visible": true,
      "authorship_tag": "ABX9TyPDjKXHVDKoao8NINvSHHwA",
      "include_colab_link": true
    },
    "kernelspec": {
      "name": "python3",
      "display_name": "Python 3"
    },
    "language_info": {
      "name": "python"
    },
    "gpuClass": "standard"
  },
  "cells": [
    {
      "cell_type": "markdown",
      "metadata": {
        "id": "view-in-github",
        "colab_type": "text"
      },
      "source": [
        "<a href=\"https://colab.research.google.com/github/SherZhou/HW_2/blob/main/Perceptron_vs_SVM.ipynb\" target=\"_parent\"><img src=\"https://colab.research.google.com/assets/colab-badge.svg\" alt=\"Open In Colab\"/></a>"
      ]
    },
    {
      "cell_type": "markdown",
      "source": [
        "## Q1 Reading Text Files"
      ],
      "metadata": {
        "id": "XJgNKgoLHZpz"
      }
    },
    {
      "cell_type": "code",
      "execution_count": null,
      "metadata": {
        "colab": {
          "base_uri": "https://localhost:8080/"
        },
        "id": "bfZplQfr_vPy",
        "outputId": "115574a3-0719-4019-e402-0b807d274198"
      },
      "outputs": [
        {
          "output_type": "stream",
          "name": "stdout",
          "text": [
            "Drive already mounted at /content/drive; to attempt to forcibly remount, call drive.mount(\"/content/drive\", force_remount=True).\n"
          ]
        }
      ],
      "source": [
        "from google.colab import drive\n",
        "drive.mount('/content/drive')\n",
        "import os\n",
        "os.chdir('/content/drive/MyDrive/prml')"
      ]
    },
    {
      "cell_type": "code",
      "source": [
        "%pwd"
      ],
      "metadata": {
        "colab": {
          "base_uri": "https://localhost:8080/",
          "height": 35
        },
        "id": "VJ2oBLhQBsDu",
        "outputId": "7ed050f7-4ede-4165-fabf-637b078bad25"
      },
      "execution_count": null,
      "outputs": [
        {
          "output_type": "execute_result",
          "data": {
            "text/plain": [
              "'/content/drive/MyDrive/prml'"
            ],
            "application/vnd.google.colaboratory.intrinsic+json": {
              "type": "string"
            }
          },
          "metadata": {},
          "execution_count": 89
        }
      ]
    },
    {
      "cell_type": "code",
      "source": [
        "import glob\n",
        "glob.glob('./data/*.txt')\n",
        "f=open('./data/01.txt','r')\n",
        "text1=f.read()\n",
        "f.close()"
      ],
      "metadata": {
        "id": "41wwWsVZA2o_"
      },
      "execution_count": null,
      "outputs": []
    },
    {
      "cell_type": "code",
      "source": [
        "f=open('./data/01.txt','r')\n",
        "text1=f.read()\n",
        "f.close()"
      ],
      "metadata": {
        "id": "FKn9-CM3A9va"
      },
      "execution_count": null,
      "outputs": []
    },
    {
      "cell_type": "code",
      "source": [
        "text1"
      ],
      "metadata": {
        "colab": {
          "base_uri": "https://localhost:8080/",
          "height": 122
        },
        "id": "DENB3U_TBYC6",
        "outputId": "4c3d90fb-d15c-45c5-d6f4-59b2ee07966e"
      },
      "execution_count": null,
      "outputs": [
        {
          "output_type": "execute_result",
          "data": {
            "text/plain": [
              "'Had for 1 year, 14,000 miles. Excellent fuel economy 27-30 on all highway. No mechanical problems. My wife would like an adjustable passenger seat, seating position too low. Fit and finish second to none. RL has plenty of power I use it often on steep hills. I like the styling much more than the 09 grille has a richer more elegant look than the 09. Handling is great in high speed situations, far superior to the TL. I like the exterior design, quite understated, however I do see the point of someone saying it looks too much like a Honda. I understand the 2011 will be a totally new car. Acura/Honda really does want to compete with the best from Lexus. After all is said and done would I buy it again... for sure.'"
            ],
            "application/vnd.google.colaboratory.intrinsic+json": {
              "type": "string"
            }
          },
          "metadata": {},
          "execution_count": 92
        }
      ]
    },
    {
      "cell_type": "code",
      "source": [],
      "metadata": {
        "id": "kPM8Ih0wFz6e"
      },
      "execution_count": null,
      "outputs": []
    },
    {
      "cell_type": "markdown",
      "source": [
        "\n",
        "\n",
        "```\n",
        "# 此内容为代码格式\n",
        "```\n",
        "\n",
        "## Q2:Feature Extraction using “Bag-of-word”"
      ],
      "metadata": {
        "id": "Puswo9MjF7RL"
      }
    },
    {
      "cell_type": "code",
      "source": [
        "f=open('./data/feature.txt','r')\n",
        "feature=f.read()\n",
        "f.close()\n",
        "features=feature.split()\n",
        "feature1=features[0]"
      ],
      "metadata": {
        "id": "qNUC6zNuF0yI"
      },
      "execution_count": null,
      "outputs": []
    },
    {
      "cell_type": "code",
      "source": [],
      "metadata": {
        "id": "ZB8Z2gYFeuDS"
      },
      "execution_count": null,
      "outputs": []
    },
    {
      "cell_type": "code",
      "source": [
        "feature1\n"
      ],
      "metadata": {
        "colab": {
          "base_uri": "https://localhost:8080/",
          "height": 35
        },
        "id": "ne4RAkYTGi2D",
        "outputId": "b2c107eb-3dbd-4172-c98c-638660c66009"
      },
      "execution_count": null,
      "outputs": [
        {
          "output_type": "execute_result",
          "data": {
            "text/plain": [
              "'car'"
            ],
            "application/vnd.google.colaboratory.intrinsic+json": {
              "type": "string"
            }
          },
          "metadata": {},
          "execution_count": 94
        }
      ]
    },
    {
      "cell_type": "code",
      "source": [
        "# feature1=features.split()"
      ],
      "metadata": {
        "id": "lSoVG-l-G7CT"
      },
      "execution_count": null,
      "outputs": []
    },
    {
      "cell_type": "code",
      "source": [
        "# feature1"
      ],
      "metadata": {
        "id": "1KOxJHX_cxyf"
      },
      "execution_count": null,
      "outputs": []
    },
    {
      "cell_type": "code",
      "source": [
        "occurrence=text1.count(feature1)"
      ],
      "metadata": {
        "id": "osL5FvbuHBfT"
      },
      "execution_count": null,
      "outputs": []
    },
    {
      "cell_type": "markdown",
      "source": [
        "## Question 3. Classifier Construction"
      ],
      "metadata": {
        "id": "lF2B3QIUHRdw"
      }
    },
    {
      "cell_type": "code",
      "source": [
        "import glob\n",
        "import numpy as np\n",
        "import matplotlib.pyplot as plt\n",
        "import matplotlib.colors\n",
        "from mpl_toolkits.mplot3d import Axes3D\n",
        "\n",
        "from numpy import linalg as LA\n",
        "from sklearn import svm"
      ],
      "metadata": {
        "id": "IY8gHkz4M7Ax"
      },
      "execution_count": null,
      "outputs": []
    },
    {
      "cell_type": "code",
      "source": [
        "fcf = glob.glob('./data/*.txt')\n",
        "fcf.sort()"
      ],
      "metadata": {
        "id": "q_P9CzGAlgus"
      },
      "execution_count": null,
      "outputs": []
    },
    {
      "cell_type": "code",
      "source": [
        "fcf"
      ],
      "metadata": {
        "colab": {
          "base_uri": "https://localhost:8080/"
        },
        "id": "JGUwU37Xl-eV",
        "outputId": "11172a66-6658-42c1-df3c-9ac5ef1485fe"
      },
      "execution_count": null,
      "outputs": [
        {
          "output_type": "execute_result",
          "data": {
            "text/plain": [
              "['./data/01.txt',\n",
              " './data/02.txt',\n",
              " './data/03.txt',\n",
              " './data/04.txt',\n",
              " './data/05.txt',\n",
              " './data/06.txt',\n",
              " './data/07.txt',\n",
              " './data/08.txt',\n",
              " './data/09.txt',\n",
              " './data/10.txt',\n",
              " './data/11.txt',\n",
              " './data/12.txt',\n",
              " './data/13.txt',\n",
              " './data/14.txt',\n",
              " './data/15.txt',\n",
              " './data/16.txt',\n",
              " './data/17.txt',\n",
              " './data/18.txt',\n",
              " './data/19.txt',\n",
              " './data/20.txt',\n",
              " './data/21.txt',\n",
              " './data/22.txt',\n",
              " './data/23.txt',\n",
              " './data/24.txt',\n",
              " './data/25.txt',\n",
              " './data/26.txt',\n",
              " './data/27.txt',\n",
              " './data/28.txt',\n",
              " './data/29.txt',\n",
              " './data/30.txt',\n",
              " './data/31.txt',\n",
              " './data/32.txt',\n",
              " './data/33.txt',\n",
              " './data/34.txt',\n",
              " './data/35.txt',\n",
              " './data/36.txt',\n",
              " './data/37.txt',\n",
              " './data/38.txt',\n",
              " './data/39.txt',\n",
              " './data/40.txt',\n",
              " './data/41.txt',\n",
              " './data/42.txt',\n",
              " './data/43.txt',\n",
              " './data/44.txt',\n",
              " './data/45.txt',\n",
              " './data/46.txt',\n",
              " './data/47.txt',\n",
              " './data/48.txt',\n",
              " './data/49.txt',\n",
              " './data/50.txt',\n",
              " './data/feature.txt']"
            ]
          },
          "metadata": {},
          "execution_count": 100
        }
      ]
    },
    {
      "cell_type": "code",
      "source": [
        "fcf = glob.glob('./data/*.txt') # list .txt files only\n",
        "fcf.sort()\n",
        "# file = open(fcf[0], 'r')\n",
        "# text1 = file.read() # string\n",
        "# file.close()\n",
        "\n",
        "file = open(fcf[50], 'r')\n",
        "features = file.read().split()\n",
        "for feature_index in range(len(features)):\n",
        "    features[feature_index]=features[feature_index]+' '\n",
        "\n",
        "# Training data\n",
        "Xtrain = np.zeros((1,np.shape(features)[0])) # empty list\n",
        "for text_index in range(40):\n",
        "    file_temp = open(fcf[text_index], 'r')\n",
        "    text_temp = file_temp.read()\n",
        "    occurence_temp = []\n",
        "    for feature_index in features:\n",
        "        occurence_temp.append(text_temp.count(feature_index)) \n",
        "    # print(\"length\",Xtrain.shape)   \n",
        "    Xtrain = np.concatenate((Xtrain, [occurence_temp]), axis = 0) # shape: 41-by-13\n",
        "\n",
        "print(\"final length\",Xtrain.shape)\n",
        "\n",
        "Xtrain = np.delete(Xtrain, (0), axis = 0) # remove the first empty row \n",
        "\n",
        "\n",
        "#XTX = np.dot(Xtrain.T, Xtrain)\n",
        "\n",
        "  # Subtracting from the mean and scaling \n",
        "meanX = np.mean(Xtrain,axis=0)\n",
        "CtrX = Xtrain-meanX\n",
        "S1 = np.dot(np.transpose(CtrX),CtrX)\n",
        "#相关系数？\n",
        "XTX = 1.0/(Xtrain.shape[0]-1)*S1\n",
        "\n"
      ],
      "metadata": {
        "id": "OK7kpjX3M8p4",
        "colab": {
          "base_uri": "https://localhost:8080/"
        },
        "outputId": "6b336838-d4cd-4508-c549-4fc092f5310f"
      },
      "execution_count": null,
      "outputs": [
        {
          "output_type": "stream",
          "name": "stdout",
          "text": [
            "final length (41, 13)\n"
          ]
        }
      ]
    },
    {
      "cell_type": "code",
      "source": [
        "CtrX.shape"
      ],
      "metadata": {
        "colab": {
          "base_uri": "https://localhost:8080/"
        },
        "id": "NcFRqrRphO8k",
        "outputId": "f710e574-a10f-45c0-dda8-93ddbc45a039"
      },
      "execution_count": null,
      "outputs": [
        {
          "output_type": "execute_result",
          "data": {
            "text/plain": [
              "(40, 13)"
            ]
          },
          "metadata": {},
          "execution_count": 102
        }
      ]
    },
    {
      "cell_type": "code",
      "source": [
        "Xtrain"
      ],
      "metadata": {
        "colab": {
          "base_uri": "https://localhost:8080/"
        },
        "id": "wfCbj6JeN7t7",
        "outputId": "8ee5f76d-49e1-4f80-ac26-acf62f214a29"
      },
      "execution_count": null,
      "outputs": [
        {
          "output_type": "execute_result",
          "data": {
            "text/plain": [
              "array([[0., 0., 1., 0., 0., 1., 0., 0., 0., 0., 0., 0., 0.],\n",
              "       [0., 0., 1., 2., 0., 1., 0., 1., 0., 0., 0., 0., 0.],\n",
              "       [4., 0., 0., 0., 0., 1., 0., 1., 0., 0., 0., 0., 0.],\n",
              "       [0., 0., 0., 0., 0., 0., 0., 0., 0., 0., 0., 0., 0.],\n",
              "       [2., 0., 0., 0., 0., 0., 0., 0., 0., 0., 0., 0., 0.],\n",
              "       [0., 0., 0., 0., 0., 0., 0., 1., 0., 0., 0., 0., 0.],\n",
              "       [0., 0., 0., 0., 1., 0., 0., 0., 0., 0., 0., 0., 0.],\n",
              "       [1., 0., 0., 0., 0., 1., 0., 0., 0., 0., 0., 0., 0.],\n",
              "       [3., 0., 0., 0., 0., 0., 0., 0., 0., 0., 0., 0., 0.],\n",
              "       [0., 0., 0., 0., 0., 0., 0., 0., 0., 0., 0., 0., 0.],\n",
              "       [3., 0., 0., 1., 0., 1., 0., 0., 0., 0., 0., 0., 0.],\n",
              "       [0., 0., 0., 0., 1., 1., 0., 0., 0., 0., 0., 0., 0.],\n",
              "       [2., 0., 0., 0., 0., 0., 0., 0., 0., 0., 0., 0., 0.],\n",
              "       [1., 0., 0., 0., 0., 0., 0., 0., 0., 0., 0., 0., 0.],\n",
              "       [1., 0., 0., 0., 0., 1., 0., 0., 0., 0., 0., 0., 0.],\n",
              "       [0., 0., 0., 0., 1., 0., 0., 0., 0., 0., 0., 0., 0.],\n",
              "       [2., 0., 0., 0., 0., 0., 1., 0., 0., 0., 0., 0., 0.],\n",
              "       [1., 0., 0., 0., 2., 0., 0., 0., 0., 0., 0., 0., 0.],\n",
              "       [2., 0., 0., 0., 1., 0., 0., 0., 0., 1., 0., 0., 0.],\n",
              "       [0., 0., 0., 1., 0., 0., 1., 1., 0., 0., 0., 0., 0.],\n",
              "       [0., 1., 0., 0., 1., 0., 0., 0., 2., 0., 1., 1., 1.],\n",
              "       [0., 0., 0., 0., 0., 0., 0., 0., 0., 0., 0., 0., 1.],\n",
              "       [0., 1., 0., 0., 0., 0., 0., 1., 1., 0., 1., 0., 1.],\n",
              "       [0., 3., 0., 0., 0., 0., 0., 0., 0., 0., 0., 0., 0.],\n",
              "       [0., 2., 0., 0., 0., 0., 0., 0., 0., 0., 0., 0., 0.],\n",
              "       [0., 1., 0., 0., 0., 0., 0., 0., 2., 0., 1., 0., 0.],\n",
              "       [0., 1., 0., 0., 0., 0., 0., 0., 3., 0., 0., 0., 0.],\n",
              "       [0., 0., 0., 0., 0., 0., 0., 0., 1., 0., 0., 0., 1.],\n",
              "       [0., 1., 0., 0., 0., 0., 0., 0., 1., 0., 1., 0., 0.],\n",
              "       [0., 2., 0., 0., 0., 0., 0., 0., 2., 0., 1., 0., 1.],\n",
              "       [0., 1., 0., 0., 0., 0., 0., 0., 0., 0., 0., 0., 0.],\n",
              "       [0., 2., 0., 0., 0., 0., 0., 0., 4., 0., 0., 0., 0.],\n",
              "       [0., 0., 0., 0., 0., 0., 0., 0., 2., 0., 1., 0., 1.],\n",
              "       [0., 2., 0., 0., 0., 0., 0., 0., 2., 0., 0., 0., 1.],\n",
              "       [0., 2., 0., 0., 0., 0., 0., 0., 4., 0., 1., 0., 1.],\n",
              "       [0., 2., 0., 0., 0., 0., 0., 0., 0., 1., 0., 0., 0.],\n",
              "       [0., 2., 0., 0., 0., 0., 0., 0., 3., 0., 0., 0., 1.],\n",
              "       [0., 1., 0., 0., 0., 0., 0., 0., 0., 0., 1., 0., 0.],\n",
              "       [0., 1., 0., 0., 0., 0., 0., 0., 1., 0., 0., 0., 1.],\n",
              "       [0., 1., 0., 0., 0., 0., 0., 0., 0., 0., 0., 0., 1.]])"
            ]
          },
          "metadata": {},
          "execution_count": 103
        }
      ]
    },
    {
      "cell_type": "code",
      "source": [
        "XTX"
      ],
      "metadata": {
        "colab": {
          "base_uri": "https://localhost:8080/"
        },
        "id": "ljfGl6v-Nj8K",
        "outputId": "0d4c4443-3536-4447-c0d0-9cc33b328165"
      },
      "execution_count": null,
      "outputs": [
        {
          "output_type": "execute_result",
          "data": {
            "text/plain": [
              "array([[ 1.07435897e+00, -3.66666667e-01, -2.82051282e-02,\n",
              "         2.05128205e-02,  3.84615385e-03,  1.32051282e-01,\n",
              "         2.30769231e-02,  3.20512821e-02, -3.94871795e-01,\n",
              "         2.30769231e-02, -1.12820513e-01, -1.41025641e-02,\n",
              "        -1.55128205e-01],\n",
              "       [-3.66666667e-01,  7.46153846e-01, -3.33333333e-02,\n",
              "        -6.66666667e-02, -9.10256410e-02, -1.16666667e-01,\n",
              "        -3.33333333e-02, -5.76923077e-02,  5.58974359e-01,\n",
              "         1.79487179e-02,  9.74358974e-02,  8.97435897e-03,\n",
              "         1.24358974e-01],\n",
              "       [-2.82051282e-02, -3.33333333e-02,  4.87179487e-02,\n",
              "         4.61538462e-02, -8.97435897e-03,  4.23076923e-02,\n",
              "        -2.56410256e-03,  1.92307692e-02, -3.58974359e-02,\n",
              "        -2.56410256e-03, -1.02564103e-02, -1.28205128e-03,\n",
              "        -1.41025641e-02],\n",
              "       [ 2.05128205e-02, -6.66666667e-02,  4.61538462e-02,\n",
              "         1.43589744e-01, -1.79487179e-02,  5.89743590e-02,\n",
              "         2.05128205e-02,  6.41025641e-02, -7.17948718e-02,\n",
              "        -5.12820513e-03, -2.05128205e-02, -2.56410256e-03,\n",
              "        -2.82051282e-02],\n",
              "       [ 3.84615385e-03, -9.10256410e-02, -8.97435897e-03,\n",
              "        -1.79487179e-02,  1.99358974e-01, -5.76923077e-03,\n",
              "        -8.97435897e-03, -2.24358974e-02, -7.43589744e-02,\n",
              "         1.66666667e-02, -1.02564103e-02,  2.11538462e-02,\n",
              "        -2.37179487e-02],\n",
              "       [ 1.32051282e-01, -1.16666667e-01,  4.23076923e-02,\n",
              "         5.89743590e-02, -5.76923077e-03,  1.48076923e-01,\n",
              "        -8.97435897e-03,  2.88461538e-02, -1.25641026e-01,\n",
              "        -8.97435897e-03, -3.58974359e-02, -4.48717949e-03,\n",
              "        -4.93589744e-02],\n",
              "       [ 2.30769231e-02, -3.33333333e-02, -2.56410256e-03,\n",
              "         2.05128205e-02, -8.97435897e-03, -8.97435897e-03,\n",
              "         4.87179487e-02,  1.92307692e-02, -3.58974359e-02,\n",
              "        -2.56410256e-03, -1.02564103e-02, -1.28205128e-03,\n",
              "        -1.41025641e-02],\n",
              "       [ 3.20512821e-02, -5.76923077e-02,  1.92307692e-02,\n",
              "         6.41025641e-02, -2.24358974e-02,  2.88461538e-02,\n",
              "         1.92307692e-02,  1.12179487e-01, -6.41025641e-02,\n",
              "        -6.41025641e-03,  9.25185854e-18, -3.20512821e-03,\n",
              "        -9.61538462e-03],\n",
              "       [-3.94871795e-01,  5.58974359e-01, -3.58974359e-02,\n",
              "        -7.17948718e-02, -7.43589744e-02, -1.25641026e-01,\n",
              "        -3.58974359e-02, -6.41025641e-02,  1.39487179e+00,\n",
              "        -3.58974359e-02,  2.15384615e-01,  3.33333333e-02,\n",
              "         2.64102564e-01],\n",
              "       [ 2.30769231e-02,  1.79487179e-02, -2.56410256e-03,\n",
              "        -5.12820513e-03,  1.66666667e-02, -8.97435897e-03,\n",
              "        -2.56410256e-03, -6.41025641e-03, -3.58974359e-02,\n",
              "         4.87179487e-02, -1.02564103e-02, -1.28205128e-03,\n",
              "        -1.41025641e-02],\n",
              "       [-1.12820513e-01,  9.74358974e-02, -1.02564103e-02,\n",
              "        -2.05128205e-02, -1.02564103e-02, -3.58974359e-02,\n",
              "        -1.02564103e-02,  9.25185854e-18,  2.15384615e-01,\n",
              "        -1.02564103e-02,  1.64102564e-01,  2.05128205e-02,\n",
              "         7.17948718e-02],\n",
              "       [-1.41025641e-02,  8.97435897e-03, -1.28205128e-03,\n",
              "        -2.56410256e-03,  2.11538462e-02, -4.48717949e-03,\n",
              "        -1.28205128e-03, -3.20512821e-03,  3.33333333e-02,\n",
              "        -1.28205128e-03,  2.05128205e-02,  2.50000000e-02,\n",
              "         1.85897436e-02],\n",
              "       [-1.55128205e-01,  1.24358974e-01, -1.41025641e-02,\n",
              "        -2.82051282e-02, -2.37179487e-02, -4.93589744e-02,\n",
              "        -1.41025641e-02, -9.61538462e-03,  2.64102564e-01,\n",
              "        -1.41025641e-02,  7.17948718e-02,  1.85897436e-02,\n",
              "         2.04487179e-01]])"
            ]
          },
          "metadata": {},
          "execution_count": 104
        }
      ]
    },
    {
      "cell_type": "code",
      "source": [
        "w,v=LA.eig(XTX) \n",
        "v[:,0:2]"
      ],
      "metadata": {
        "colab": {
          "base_uri": "https://localhost:8080/"
        },
        "id": "AeT3vfKMk2H1",
        "outputId": "f76dd519-c5ff-4e40-ba54-33b1dcb7ad7b"
      },
      "execution_count": null,
      "outputs": [
        {
          "output_type": "execute_result",
          "data": {
            "text/plain": [
              "array([[-0.47018069, -0.8387557 ],\n",
              "       [ 0.44887115, -0.01135339],\n",
              "       [-0.01838545,  0.05570077],\n",
              "       [-0.05398201,  0.03320991],\n",
              "       [-0.05018266,  0.06008363],\n",
              "       [-0.11089185, -0.05331425],\n",
              "       [-0.02650152,  0.00204097],\n",
              "       [-0.04643249,  0.01206909],\n",
              "       [ 0.71252049, -0.53255913],\n",
              "       [-0.01492482,  0.00177663],\n",
              "       [ 0.13552435, -0.03537115],\n",
              "       [ 0.01891096, -0.00744816],\n",
              "       [ 0.17287697, -0.02496491]])"
            ]
          },
          "metadata": {},
          "execution_count": 105
        }
      ]
    },
    {
      "cell_type": "code",
      "source": [
        "w"
      ],
      "metadata": {
        "id": "8EOKvVHDGaEa",
        "colab": {
          "base_uri": "https://localhost:8080/"
        },
        "outputId": "23c33c89-a5cb-4422-bc05-8ebf8e903376"
      },
      "execution_count": null,
      "outputs": [
        {
          "output_type": "execute_result",
          "data": {
            "text/plain": [
              "array([2.15093327, 0.8177886 , 0.4215088 , 0.26128558, 0.17837637,\n",
              "       0.14128865, 0.01744352, 0.02162422, 0.03288114, 0.05632679,\n",
              "       0.04301087, 0.10464653, 0.111219  ])"
            ]
          },
          "metadata": {},
          "execution_count": 106
        }
      ]
    },
    {
      "cell_type": "code",
      "source": [
        "\"\"\"Section 1: Fill in your answers here\"\"\"\n",
        "\n",
        "# compute eigenvalues and eigenvectors\n",
        "w,v=LA.eig(XTX)\n",
        "\n",
        "# Due to the descending order of eigenvalues in w, here we choose the first two columns of v.\n",
        "# principal comonents; shape: 13-by-2\n",
        "# PC scores; shape: 40-by-2\n",
        "PC=v[:,0:2]\n",
        "t=np.dot(CtrX,PC) \n",
        "t0=t[0:20][:]\n",
        "t1=t[20:40][:]\n",
        "X1 =t0  ## Assign the PC scores for class 1 here\n",
        "X2 =t1 ## Assign the PC scores for class 2 here\n",
        "\"\"\" End of answer Section 1\"\"\"\n"
      ],
      "metadata": {
        "colab": {
          "base_uri": "https://localhost:8080/",
          "height": 35
        },
        "id": "QluIgiKINQ0u",
        "outputId": "59554544-c5ef-4cfb-cb6f-aa2822cb4a46"
      },
      "execution_count": null,
      "outputs": [
        {
          "output_type": "execute_result",
          "data": {
            "text/plain": [
              "' End of answer Section 1'"
            ],
            "application/vnd.google.colaboratory.intrinsic+json": {
              "type": "string"
            }
          },
          "metadata": {},
          "execution_count": 107
        }
      ]
    },
    {
      "cell_type": "code",
      "source": [
        "t"
      ],
      "metadata": {
        "colab": {
          "base_uri": "https://localhost:8080/"
        },
        "id": "5nWWuwpo8qZM",
        "outputId": "c67d3f16-9a08-46e0-97b6-d0a7cebf332a"
      },
      "execution_count": null,
      "outputs": [
        {
          "output_type": "execute_result",
          "data": {
            "text/plain": [
              "array([[-0.69394644,  0.84900884],\n",
              "       [-0.84834294,  0.92749775],\n",
              "       [-2.60271622, -2.54964562],\n",
              "       [-0.56466914,  0.84662232],\n",
              "       [-1.50503051, -0.83088907],\n",
              "       [-0.61110163,  0.85869142],\n",
              "       [-0.6148518 ,  0.90670596],\n",
              "       [-1.14574167, -0.04544762],\n",
              "       [-1.97521119, -1.66964477],\n",
              "       [-0.56466914,  0.84662232],\n",
              "       [-2.14008505, -1.68974911],\n",
              "       [-0.72574365,  0.85339171],\n",
              "       [-1.50503051, -0.83088907],\n",
              "       [-1.03484982,  0.00786663],\n",
              "       [-1.14574167, -0.04544762],\n",
              "       [-0.6148518 ,  0.90670596],\n",
              "       [-1.53153203, -0.8288481 ],\n",
              "       [-1.13521515,  0.12803389],\n",
              "       [-1.57013799, -0.76902881],\n",
              "       [-0.69158516,  0.89394229],\n",
              "       [ 1.58637262, -0.23754992],\n",
              "       [-0.39179216,  0.82165742],\n",
              "       [ 0.85869134,  0.25444284],\n",
              "       [ 0.78194433,  0.81256217],\n",
              "       [ 0.33307317,  0.82391555],\n",
              "       [ 1.44476735, -0.26522048],\n",
              "       [ 2.02176349, -0.76240846],\n",
              "       [ 0.32072833,  0.28909828],\n",
              "       [ 0.73224686,  0.26733865],\n",
              "       [ 2.06651547, -0.30153878],\n",
              "       [-0.11579798,  0.83526894],\n",
              "       [ 3.18315513, -1.30632098],\n",
              "       [ 1.16877317, -0.27883201],\n",
              "       [ 1.93099112, -0.26616762],\n",
              "       [ 3.49155645, -1.36665704],\n",
              "       [ 0.31814835,  0.82569218],\n",
              "       [ 2.64351161, -0.79872675],\n",
              "       [ 0.01972637,  0.79989778],\n",
              "       [ 0.76959948,  0.2777449 ],\n",
              "       [ 0.05707899,  0.81030403]])"
            ]
          },
          "metadata": {},
          "execution_count": 108
        }
      ]
    },
    {
      "cell_type": "code",
      "source": [
        "PC"
      ],
      "metadata": {
        "colab": {
          "base_uri": "https://localhost:8080/"
        },
        "id": "VBAydnj5GjOD",
        "outputId": "7ef5d47c-c916-4326-9365-5da4e6c6c3db"
      },
      "execution_count": null,
      "outputs": [
        {
          "output_type": "execute_result",
          "data": {
            "text/plain": [
              "array([[-0.47018069, -0.8387557 ],\n",
              "       [ 0.44887115, -0.01135339],\n",
              "       [-0.01838545,  0.05570077],\n",
              "       [-0.05398201,  0.03320991],\n",
              "       [-0.05018266,  0.06008363],\n",
              "       [-0.11089185, -0.05331425],\n",
              "       [-0.02650152,  0.00204097],\n",
              "       [-0.04643249,  0.01206909],\n",
              "       [ 0.71252049, -0.53255913],\n",
              "       [-0.01492482,  0.00177663],\n",
              "       [ 0.13552435, -0.03537115],\n",
              "       [ 0.01891096, -0.00744816],\n",
              "       [ 0.17287697, -0.02496491]])"
            ]
          },
          "metadata": {},
          "execution_count": 109
        }
      ]
    },
    {
      "cell_type": "code",
      "source": [
        "t1"
      ],
      "metadata": {
        "colab": {
          "base_uri": "https://localhost:8080/"
        },
        "id": "L5-pTrJ3NXqE",
        "outputId": "96660660-a711-41f8-fa52-af4e7ab9b311"
      },
      "execution_count": null,
      "outputs": [
        {
          "output_type": "execute_result",
          "data": {
            "text/plain": [
              "array([[ 1.58637262, -0.23754992],\n",
              "       [-0.39179216,  0.82165742],\n",
              "       [ 0.85869134,  0.25444284],\n",
              "       [ 0.78194433,  0.81256217],\n",
              "       [ 0.33307317,  0.82391555],\n",
              "       [ 1.44476735, -0.26522048],\n",
              "       [ 2.02176349, -0.76240846],\n",
              "       [ 0.32072833,  0.28909828],\n",
              "       [ 0.73224686,  0.26733865],\n",
              "       [ 2.06651547, -0.30153878],\n",
              "       [-0.11579798,  0.83526894],\n",
              "       [ 3.18315513, -1.30632098],\n",
              "       [ 1.16877317, -0.27883201],\n",
              "       [ 1.93099112, -0.26616762],\n",
              "       [ 3.49155645, -1.36665704],\n",
              "       [ 0.31814835,  0.82569218],\n",
              "       [ 2.64351161, -0.79872675],\n",
              "       [ 0.01972637,  0.79989778],\n",
              "       [ 0.76959948,  0.2777449 ],\n",
              "       [ 0.05707899,  0.81030403]])"
            ]
          },
          "metadata": {},
          "execution_count": 110
        }
      ]
    },
    {
      "cell_type": "code",
      "source": [
        "fig, ax1  = plt.subplots(1,1, sharey = True)\n",
        "for i in range(0,20): \n",
        "    \"\"\" Section 3: Fill in your answers, replace t with the PC scores for class 0 and class 1 respectively\"\"\"\n",
        "    \n",
        "    class_0 = ax1.scatter(t[i][0], t[i][1], c = 'r', marker = \"o\") # the 20 elements for class 0\n",
        "    class_1 = ax1.scatter(t[i][0], t[i][1], c = 'b', marker = \"x\") # the  20 elements for class 1\n",
        "    \n",
        "ax1.set_title('PC scatterplot ') \n",
        "ax1.set_xlabel('PC 2')\n",
        "ax1.set_ylabel('PC 1')\n",
        "# class 0: cars  class 1: hotels\n",
        "ax1.legend((class_0, class_1), ('Cars', 'Hotels'), scatterpoints=1, loc='lower left', ncol=1, fontsize=10)\n",
        "\n",
        "# fig.savefig('03a_PC scatterplot.png', dpi = 200)   # save the figure to file\n",
        "# plt.close(fig) "
      ],
      "metadata": {
        "colab": {
          "base_uri": "https://localhost:8080/",
          "height": 489
        },
        "id": "aJdKmzedGsXR",
        "outputId": "5eaca7ac-a0e7-42bb-d328-121cad66dd02"
      },
      "execution_count": null,
      "outputs": [
        {
          "output_type": "execute_result",
          "data": {
            "text/plain": [
              "<matplotlib.legend.Legend at 0x7f529b3e8d30>"
            ]
          },
          "metadata": {},
          "execution_count": 111
        },
        {
          "output_type": "display_data",
          "data": {
            "text/plain": [
              "<Figure size 640x480 with 1 Axes>"
            ],
            "image/png": "[encoded data removed]"
          },
          "metadata": {}
        }
      ]
    },
    {
      "cell_type": "markdown",
      "source": [
        "### Q3a: Data visualization Using Principle Component Analysis"
      ],
      "metadata": {
        "id": "TKmNYqk0IIYI"
      }
    },
    {
      "cell_type": "code",
      "source": [
        "fig, ax1  = plt.subplots(1,1, sharey = True)\n",
        "for i in range(0,20): \n",
        "    \"\"\" Section 3: Fill in your answers, replace t with the PC scores for class 0 and class 1 respectively\"\"\"\n",
        "    \n",
        "    class_0 = ax1.scatter(t0[i][0], t0[i][1], c = 'r', marker = \"o\") # the 20 elements for class 0\n",
        "    class_1 = ax1.scatter(t1[i][0], t1[i][1], c = 'b', marker = \"x\") # the  20 elements for class 1\n",
        "    \n",
        "ax1.set_title('PC scatterplot ') \n",
        "ax1.set_xlabel('PC 2')\n",
        "ax1.set_ylabel('PC 1')\n",
        "# class 0: cars  class 1: hotels\n",
        "ax1.legend((class_0, class_1), ('Cars', 'Hotels'), scatterpoints=1, loc='lower left', ncol=1, fontsize=10)\n",
        "\n",
        "# fig.savefig('03a_PC scatterplot.png', dpi = 200)   # save the figure to file\n",
        "# plt.close(fig) "
      ],
      "metadata": {
        "colab": {
          "base_uri": "https://localhost:8080/",
          "height": 489
        },
        "id": "7VCZ7RWHI-hX",
        "outputId": "dab0250f-257b-4c5a-e208-6bc9bbeb911d"
      },
      "execution_count": null,
      "outputs": [
        {
          "output_type": "execute_result",
          "data": {
            "text/plain": [
              "<matplotlib.legend.Legend at 0x7f529cb4fd90>"
            ]
          },
          "metadata": {},
          "execution_count": 112
        },
        {
          "output_type": "display_data",
          "data": {
            "text/plain": [
              "<Figure size 640x480 with 1 Axes>"
            ],
            "image/png": "[encoded data removed]"
          },
          "metadata": {}
        }
      ]
    },
    {
      "cell_type": "markdown",
      "source": [
        "### Q3b Classifier Construction"
      ],
      "metadata": {
        "id": "46a4cjFVIYXW"
      }
    },
    {
      "cell_type": "code",
      "source": [
        "Y"
      ],
      "metadata": {
        "colab": {
          "base_uri": "https://localhost:8080/"
        },
        "id": "WdfjC4LW-MNO",
        "outputId": "4cf69d1b-442b-4f6f-e22d-713a6dd3615d"
      },
      "execution_count": null,
      "outputs": [
        {
          "output_type": "execute_result",
          "data": {
            "text/plain": [
              "array([[ 1.        , -0.69394644,  0.84900884],\n",
              "       [ 1.        , -0.84834294,  0.92749775],\n",
              "       [ 1.        , -2.60271622, -2.54964562],\n",
              "       [ 1.        , -0.56466914,  0.84662232],\n",
              "       [ 1.        , -1.50503051, -0.83088907],\n",
              "       [ 1.        , -0.61110163,  0.85869142],\n",
              "       [ 1.        , -0.6148518 ,  0.90670596],\n",
              "       [ 1.        , -1.14574167, -0.04544762],\n",
              "       [ 1.        , -1.97521119, -1.66964477],\n",
              "       [ 1.        , -0.56466914,  0.84662232],\n",
              "       [ 1.        , -2.14008505, -1.68974911],\n",
              "       [ 1.        , -0.72574365,  0.85339171],\n",
              "       [ 1.        , -1.50503051, -0.83088907],\n",
              "       [ 1.        , -1.03484982,  0.00786663],\n",
              "       [ 1.        , -1.14574167, -0.04544762],\n",
              "       [ 1.        , -0.6148518 ,  0.90670596],\n",
              "       [ 1.        , -1.53153203, -0.8288481 ],\n",
              "       [ 1.        , -1.13521515,  0.12803389],\n",
              "       [ 1.        , -1.57013799, -0.76902881],\n",
              "       [ 1.        , -0.69158516,  0.89394229],\n",
              "       [-1.        , -1.58637262,  0.23754992],\n",
              "       [-1.        ,  0.39179216, -0.82165742],\n",
              "       [-1.        , -0.85869134, -0.25444284],\n",
              "       [-1.        , -0.78194433, -0.81256217],\n",
              "       [-1.        , -0.33307317, -0.82391555],\n",
              "       [-1.        , -1.44476735,  0.26522048],\n",
              "       [-1.        , -2.02176349,  0.76240846],\n",
              "       [-1.        , -0.32072833, -0.28909828],\n",
              "       [-1.        , -0.73224686, -0.26733865],\n",
              "       [-1.        , -2.06651547,  0.30153878],\n",
              "       [-1.        ,  0.11579798, -0.83526894],\n",
              "       [-1.        , -3.18315513,  1.30632098],\n",
              "       [-1.        , -1.16877317,  0.27883201],\n",
              "       [-1.        , -1.93099112,  0.26616762],\n",
              "       [-1.        , -3.49155645,  1.36665704],\n",
              "       [-1.        , -0.31814835, -0.82569218],\n",
              "       [-1.        , -2.64351161,  0.79872675],\n",
              "       [-1.        , -0.01972637, -0.79989778],\n",
              "       [-1.        , -0.76959948, -0.2777449 ],\n",
              "       [-1.        , -0.05707899, -0.81030403]])"
            ]
          },
          "metadata": {},
          "execution_count": 113
        }
      ]
    },
    {
      "cell_type": "code",
      "source": [
        "np.dot(Y,np.zeros((3,1)))<=0"
      ],
      "metadata": {
        "colab": {
          "base_uri": "https://localhost:8080/"
        },
        "id": "PrjfHUpc-G2z",
        "outputId": "9b0c0cc8-8d0b-4a5e-b952-779b02691f14"
      },
      "execution_count": null,
      "outputs": [
        {
          "output_type": "execute_result",
          "data": {
            "text/plain": [
              "array([[ True],\n",
              "       [ True],\n",
              "       [ True],\n",
              "       [ True],\n",
              "       [ True],\n",
              "       [ True],\n",
              "       [ True],\n",
              "       [ True],\n",
              "       [ True],\n",
              "       [ True],\n",
              "       [ True],\n",
              "       [ True],\n",
              "       [ True],\n",
              "       [ True],\n",
              "       [ True],\n",
              "       [ True],\n",
              "       [ True],\n",
              "       [ True],\n",
              "       [ True],\n",
              "       [ True],\n",
              "       [ True],\n",
              "       [ True],\n",
              "       [ True],\n",
              "       [ True],\n",
              "       [ True],\n",
              "       [ True],\n",
              "       [ True],\n",
              "       [ True],\n",
              "       [ True],\n",
              "       [ True],\n",
              "       [ True],\n",
              "       [ True],\n",
              "       [ True],\n",
              "       [ True],\n",
              "       [ True],\n",
              "       [ True],\n",
              "       [ True],\n",
              "       [ True],\n",
              "       [ True],\n",
              "       [ True]])"
            ]
          },
          "metadata": {},
          "execution_count": 114
        }
      ]
    },
    {
      "cell_type": "code",
      "source": [
        "\"\"\"\n",
        "# ==============  Perceptron =============================\n",
        "\"\"\"\n",
        "\"\"\"Section 2: Fill in your answers here\"\"\"\n",
        "        \n",
        "X1 = t0 ## Assign the PC scores for class 1 here\n",
        "X2 = t1## Assign the PC scores for class 2 here\n",
        "\n",
        "\"\"\"End of section 2\"\"\"\n",
        "\n",
        "Y1 = np.concatenate((np.ones((20,1)),X1), axis=1)\n",
        "Y2 = np.concatenate((np.ones((20,1))*-1,-X2), axis=1)\n",
        "Y = np.concatenate((Y1,Y2), axis=0)  # shape: 40-by-3\n",
        "\n",
        "# Initialize\n",
        "a = np.zeros((3,1))\n",
        "\n",
        "# no. of misclassified samples\n",
        "sum_wrong = 1\n",
        "\n",
        "a_iter = a\n",
        "k = 0\n",
        "\n",
        "# error=0 or iteration=1000 end \n",
        "while sum_wrong > 0 and k < 1000:\n",
        "  # add wrong classification result: np.dot(Y,a_iter) <= 0\n",
        "    wrong = np.dot(Y,a_iter) <= 0\n",
        "    sum_wrong = sum(wrong)\n",
        "    sum1 = sum(wrong*np.ones((1,3))*Y)\n",
        "    # apdate\n",
        "    a_iter = a_iter+sum1.reshape(3,1)\n",
        "    k=k+1\n",
        "    \n",
        "a_con = a_iter\n",
        "\n",
        "fig, ax1  = plt.subplots(1,1, sharey = True)\n",
        "\n",
        "x = np.arange(-8,8,1)\n",
        "y = -(a_con[0]+a_con[1]*x)/a_con[2]\n",
        "\n",
        "line1 = ax1.plot(x, y, '--', label = \"perceptron\")\n",
        "\n",
        "for i in range(0,20): \n",
        "    \"\"\" Section 3: Fill in your answers, replace t with the PC scores for class 0 and class 1 respectively\"\"\"\n",
        "    \n",
        "    class_0 = ax1.scatter(X1[i][0], X1[i][1],    c = 'r', marker = \"o\") # the 20 elements for class 0\n",
        "    class_1 = ax1.scatter(X2[i][0], X2[i][1], c = 'b', marker = \"x\") # the  20 elements for class 1\n",
        "    \n",
        "    \"\"\" End of Section 3\"\"\"\n",
        "\n",
        "ax1.set_title('Perceptron') \n",
        "ax1.set_xlabel('Mapping feature 2')\n",
        "ax1.set_ylabel('Mapping feature 1')\n",
        "ax1.legend((class_0, class_1), ('class 0', 'class 1'), scatterpoints=1, loc='lower left', ncol=1, fontsize=10)\n",
        "ax1.set_xlim([-2.8,3.8])\n",
        "ax1.set_ylim([-2.7,1.2])\n",
        "\n",
        "fig.show()\n",
        "# fig.savefig('Q4_Perceptron.png', dpi = 200)   # save the figure to file\n",
        "# plt.close(fig) "
      ],
      "metadata": {
        "colab": {
          "base_uri": "https://localhost:8080/",
          "height": 472
        },
        "id": "xVfOirQ6Jf8A",
        "outputId": "fefe8a1c-2907-4639-d408-ba9b8ea26ba2"
      },
      "execution_count": null,
      "outputs": [
        {
          "output_type": "display_data",
          "data": {
            "text/plain": [
              "<Figure size 640x480 with 1 Axes>"
            ],
            "image/png": "[encoded data removed]"
          },
          "metadata": {}
        }
      ]
    },
    {
      "cell_type": "code",
      "source": [
        "# ============== Hard-margin SVM =========================\n",
        "\n",
        "\n",
        "X = np.concatenate((X1,X2), axis=0)\n",
        "Y_svm=np.concatenate((np.zeros((1,20)),np.ones((1,20))), axis=1)\n",
        "Y_svm=Y_svm.ravel()\n",
        "\"\"\"Section 4: Fill in your answers here\"\"\"\n",
        "#Fit Linear SVM\n",
        "#nonlinear kernel\n",
        "#默认为 径像核函数/高斯核\n",
        "clf=svm.SVC()\n",
        "clf.fit(X,Y_svm)\n",
        "\n",
        "# clf=svm.SVC(kernel='linear',C=1000)\n",
        "# clf.fit(X,Y_svm)\n",
        "\n",
        "\n",
        "\"\"\"End of Section 4\"\"\"\n",
        "           \n",
        "fig, ax1  = plt.subplots(1,1, sharey = True)\n",
        "\n",
        "\n",
        "for i in range(0,20): \n",
        "    class_0 = ax1.scatter(t[i][0],    t[i][1],    c = 'r', marker = \"o\") # the first  20 elements for class 0\n",
        "    class_1 = ax1.scatter(t[i+20][0], t[i+20][1], c = 'b', marker = \"x\") # the latter 20 elements for class 1\n",
        "\n",
        "# plot the decision function\n",
        "xlim = ax1.get_xlim()\n",
        "ylim = ax1.get_ylim()\n",
        "\n",
        "# create grid to evaluate model\n",
        "xx = np.linspace(xlim[0], xlim[1], 30)\n",
        "yy = np.linspace(ylim[0], ylim[1], 30)\n",
        "YY, XX = np.meshgrid(yy, xx)\n",
        "xy = np.vstack([XX.ravel(), YY.ravel()]).T\n",
        "Z = clf.decision_function(xy).reshape(XX.shape)\n",
        "\n",
        "# plot decision boundary and margins\n",
        "ax1.contour(XX, YY, Z, colors='k', levels=[-1, 0, 1], alpha=0.5,\n",
        "           linestyles=['--', '-', '--'])\n",
        "\n",
        "\n",
        "ax1.set_title('SVM with Guassian Kernel') \n",
        "ax1.set_xlabel('Mapping feature 2')\n",
        "ax1.set_ylabel('Mapping feature 1')\n",
        "ax1.legend((class_0, class_1), ('class 0', 'class 1'), scatterpoints=1, loc='lower left', ncol=1, fontsize=10)\n",
        "\n",
        "# fig.savefig('Q4_Hard-margin SVM.png', dpi = 200)   # save the figure to file\n",
        "fig.show()\n",
        "# plt.close(fig) "
      ],
      "metadata": {
        "colab": {
          "base_uri": "https://localhost:8080/",
          "height": 472
        },
        "id": "isMCuSEULwd4",
        "outputId": "eb0cce7d-1ac5-47f8-d72b-55355b496455"
      },
      "execution_count": null,
      "outputs": [
        {
          "output_type": "display_data",
          "data": {
            "text/plain": [
              "<Figure size 640x480 with 1 Axes>"
            ],
            "image/png": "[encoded data removed]"
          },
          "metadata": {}
        }
      ]
    },
    {
      "cell_type": "code",
      "source": [
        "clf"
      ],
      "metadata": {
        "colab": {
          "base_uri": "https://localhost:8080/",
          "height": 74
        },
        "id": "SDx0r7HfF2ti",
        "outputId": "0bc3dd3f-dfa4-4563-988d-ddf4d82df251"
      },
      "execution_count": null,
      "outputs": [
        {
          "output_type": "execute_result",
          "data": {
            "text/plain": [
              "SVC()"
            ],
            "text/html": [
              "<style>#sk-container-id-7 {color: black;background-color: white;}#sk-container-id-7 pre{padding: 0;}#sk-container-id-7 div.sk-toggleable {background-color: white;}#sk-container-id-7 label.sk-toggleable__label {cursor: pointer;display: block;width: 100%;margin-bottom: 0;padding: 0.3em;box-sizing: border-box;text-align: center;}#sk-container-id-7 label.sk-toggleable__label-arrow:before {content: \"▸\";float: left;margin-right: 0.25em;color: #696969;}#sk-container-id-7 label.sk-toggleable__label-arrow:hover:before {color: black;}#sk-container-id-7 div.sk-estimator:hover label.sk-toggleable__label-arrow:before {color: black;}#sk-container-id-7 div.sk-toggleable__content {max-height: 0;max-width: 0;overflow: hidden;text-align: left;background-color: #f0f8ff;}#sk-container-id-7 div.sk-toggleable__content pre {margin: 0.2em;color: black;border-radius: 0.25em;background-color: #f0f8ff;}#sk-container-id-7 input.sk-toggleable__control:checked~div.sk-toggleable__content {max-height: 200px;max-width: 100%;overflow: auto;}#sk-container-id-7 input.sk-toggleable__control:checked~label.sk-toggleable__label-arrow:before {content: \"▾\";}#sk-container-id-7 div.sk-estimator input.sk-toggleable__control:checked~label.sk-toggleable__label {background-color: #d4ebff;}#sk-container-id-7 div.sk-label input.sk-toggleable__control:checked~label.sk-toggleable__label {background-color: #d4ebff;}#sk-container-id-7 input.sk-hidden--visually {border: 0;clip: rect(1px 1px 1px 1px);clip: rect(1px, 1px, 1px, 1px);height: 1px;margin: -1px;overflow: hidden;padding: 0;position: absolute;width: 1px;}#sk-container-id-7 div.sk-estimator {font-family: monospace;background-color: #f0f8ff;border: 1px dotted black;border-radius: 0.25em;box-sizing: border-box;margin-bottom: 0.5em;}#sk-container-id-7 div.sk-estimator:hover {background-color: #d4ebff;}#sk-container-id-7 div.sk-parallel-item::after {content: \"\";width: 100%;border-bottom: 1px solid gray;flex-grow: 1;}#sk-container-id-7 div.sk-label:hover label.sk-toggleable__label {background-color: #d4ebff;}#sk-container-id-7 div.sk-serial::before {content: \"\";position: absolute;border-left: 1px solid gray;box-sizing: border-box;top: 0;bottom: 0;left: 50%;z-index: 0;}#sk-container-id-7 div.sk-serial {display: flex;flex-direction: column;align-items: center;background-color: white;padding-right: 0.2em;padding-left: 0.2em;position: relative;}#sk-container-id-7 div.sk-item {position: relative;z-index: 1;}#sk-container-id-7 div.sk-parallel {display: flex;align-items: stretch;justify-content: center;background-color: white;position: relative;}#sk-container-id-7 div.sk-item::before, #sk-container-id-7 div.sk-parallel-item::before {content: \"\";position: absolute;border-left: 1px solid gray;box-sizing: border-box;top: 0;bottom: 0;left: 50%;z-index: -1;}#sk-container-id-7 div.sk-parallel-item {display: flex;flex-direction: column;z-index: 1;position: relative;background-color: white;}#sk-container-id-7 div.sk-parallel-item:first-child::after {align-self: flex-end;width: 50%;}#sk-container-id-7 div.sk-parallel-item:last-child::after {align-self: flex-start;width: 50%;}#sk-container-id-7 div.sk-parallel-item:only-child::after {width: 0;}#sk-container-id-7 div.sk-dashed-wrapped {border: 1px dashed gray;margin: 0 0.4em 0.5em 0.4em;box-sizing: border-box;padding-bottom: 0.4em;background-color: white;}#sk-container-id-7 div.sk-label label {font-family: monospace;font-weight: bold;display: inline-block;line-height: 1.2em;}#sk-container-id-7 div.sk-label-container {text-align: center;}#sk-container-id-7 div.sk-container {/* jupyter's `normalize.less` sets `[hidden] { display: none; }` but bootstrap.min.css set `[hidden] { display: none !important; }` so we also need the `!important` here to be able to override the default hidden behavior on the sphinx rendered scikit-learn.org. See: https://github.com/scikit-learn/scikit-learn/issues/21755 */display: inline-block !important;position: relative;}#sk-container-id-7 div.sk-text-repr-fallback {display: none;}</style><div id=\"sk-container-id-7\" class=\"sk-top-container\"><div class=\"sk-text-repr-fallback\"><pre>SVC()</pre><b>In a Jupyter environment, please rerun this cell to show the HTML representation or trust the notebook. <br />On GitHub, the HTML representation is unable to render, please try loading this page with nbviewer.org.</b></div><div class=\"sk-container\" hidden><div class=\"sk-item\"><div class=\"sk-estimator sk-toggleable\"><input class=\"sk-toggleable__control sk-hidden--visually\" id=\"sk-estimator-id-7\" type=\"checkbox\" checked><label for=\"sk-estimator-id-7\" class=\"sk-toggleable__label sk-toggleable__label-arrow\">SVC</label><div class=\"sk-toggleable__content\"><pre>SVC()</pre></div></div></div></div></div>"
            ]
          },
          "metadata": {},
          "execution_count": 117
        }
      ]
    },
    {
      "cell_type": "code",
      "source": [
        "# 1. 惩罚系数C：值范围：0.0001 到10000，值越大，对错误列惩罚程度越大，越不能容忍出现误差，容易过拟合；越小，容易欠拟合。\n",
        "# 2. gamma：默认是1/n_features 选择rbf函数作为kernel后，该函数自带的一个参数，隐含的决定了数据映射到新的特征空间后的分布，gamma越大，支持向量越小，反之。支持向量的个数影响训练核预测的速度\n",
        "\n",
        "from sklearn.model_selection import GridSearchCV\n",
        "svc = svm.SVC()\n",
        "grid = GridSearchCV(svc, param_grid={\"C\":[0.1, 1, 10], \"gamma\": [1, 0.1, 0.01]}, cv=4)\n",
        "# 'C': [1e-3, 1e-2, 1e-1, 1, 10, 100, 1000], 'gamma': [0.001, 0.0001]}   \n",
        "\n",
        "grid.fit(X,Y_svm)\n",
        "print(\"The best parameters are %s with a score of %0.2f\"\n",
        "      % (grid.best_params_, grid.best_score_))"
      ],
      "metadata": {
        "colab": {
          "base_uri": "https://localhost:8080/"
        },
        "id": "3WAfKFd7MT2T",
        "outputId": "b915efb7-ee52-433e-d990-2745abccd2e6"
      },
      "execution_count": null,
      "outputs": [
        {
          "output_type": "stream",
          "name": "stdout",
          "text": [
            "The best parameters are {'C': 1, 'gamma': 1} with a score of 0.97\n"
          ]
        }
      ]
    },
    {
      "cell_type": "code",
      "source": [
        "# ============== Hard-margin SVM =========================\n",
        "\n",
        "\n",
        "X = np.concatenate((X1,X2), axis=0)\n",
        "Y_svm=np.concatenate((np.zeros((1,20)),np.ones((1,20))), axis=1)\n",
        "Y_svm=Y_svm.ravel()\n",
        "\"\"\"Section 4: Fill in your answers here\"\"\"\n",
        "#Fit Linear SVM\n",
        "#nonlinear kernel\n",
        "#默认为 径像核函数/高斯核\n",
        "\n",
        "#C=best_parameters['C'], gamma=best_parameters['gamma'], probability=True\n",
        "# c越高，说明越不能容忍出现误差,容易过拟合。C越小，容易欠拟合。C过大或过小，泛化能力变差。C一般可以选择为：10^t , t=[- 4，4]就是0.0001 到10000。\n",
        "#默认c=1,gamma=1 / n_features\n",
        "clf=svm.SVC(C=1, gamma=1, probability=True)\n",
        "clf.fit(X,Y_svm)\n",
        "\n",
        "# clf=svm.SVC(kernel='linear',C=1000)\n",
        "# clf.fit(X,Y_svm)\n",
        "\n",
        "\n",
        "\"\"\"End of Section 4\"\"\"\n",
        "           \n",
        "fig, ax1  = plt.subplots(1,1, sharey = True)\n",
        "\n",
        "\n",
        "for i in range(0,20): \n",
        "    class_0 = ax1.scatter(t[i][0],    t[i][1],    c = 'r', marker = \"o\") # the first  20 elements for class 0\n",
        "    class_1 = ax1.scatter(t[i+20][0], t[i+20][1], c = 'b', marker = \"x\") # the latter 20 elements for class 1\n",
        "\n",
        "# plot the decision function\n",
        "xlim = ax1.get_xlim()\n",
        "ylim = ax1.get_ylim()\n",
        "\n",
        "# create grid to evaluate model\n",
        "xx = np.linspace(xlim[0], xlim[1], 30)\n",
        "yy = np.linspace(ylim[0], ylim[1], 30)\n",
        "YY, XX = np.meshgrid(yy, xx)\n",
        "xy = np.vstack([XX.ravel(), YY.ravel()]).T\n",
        "Z = clf.decision_function(xy).reshape(XX.shape)\n",
        "\n",
        "# plot decision boundary and margins\n",
        "ax1.contour(XX, YY, Z, colors='k', levels=[-1, 0, 1], alpha=0.5,\n",
        "           linestyles=['--', '-', '--'])\n",
        "\n",
        "\n",
        "ax1.set_title('SVM with Guassian kernel(C=1,gamma=1)') \n",
        "ax1.set_xlabel('Mapping feature 2')\n",
        "ax1.set_ylabel('Mapping feature 1')\n",
        "ax1.legend((class_0, class_1), ('class 0', 'class 1'), scatterpoints=1, loc='lower left', ncol=1, fontsize=10)\n",
        "# fig.savefig('Q4_Hard-margin SVM.png', dpi = 200)   # save the figure to file\n",
        "fig.show()\n",
        "# plt.close(fig) "
      ],
      "metadata": {
        "colab": {
          "base_uri": "https://localhost:8080/",
          "height": 472
        },
        "id": "qE2B_SiwNUYJ",
        "outputId": "a60fae8f-c4e8-4d9b-87d7-2dab2d515b03"
      },
      "execution_count": null,
      "outputs": [
        {
          "output_type": "display_data",
          "data": {
            "text/plain": [
              "<Figure size 640x480 with 1 Axes>"
            ],
            "image/png": "[encoded data removed]"
          },
          "metadata": {}
        }
      ]
    },
    {
      "cell_type": "code",
      "source": [
        "clf"
      ],
      "metadata": {
        "colab": {
          "base_uri": "https://localhost:8080/",
          "height": 74
        },
        "id": "neWrt6drGH4f",
        "outputId": "0cc13176-9adf-4781-8558-d6f77c5fec03"
      },
      "execution_count": null,
      "outputs": [
        {
          "output_type": "execute_result",
          "data": {
            "text/plain": [
              "SVC(C=1, gamma=1, probability=True)"
            ],
            "text/html": [
              "<style>#sk-container-id-8 {color: black;background-color: white;}#sk-container-id-8 pre{padding: 0;}#sk-container-id-8 div.sk-toggleable {background-color: white;}#sk-container-id-8 label.sk-toggleable__label {cursor: pointer;display: block;width: 100%;margin-bottom: 0;padding: 0.3em;box-sizing: border-box;text-align: center;}#sk-container-id-8 label.sk-toggleable__label-arrow:before {content: \"▸\";float: left;margin-right: 0.25em;color: #696969;}#sk-container-id-8 label.sk-toggleable__label-arrow:hover:before {color: black;}#sk-container-id-8 div.sk-estimator:hover label.sk-toggleable__label-arrow:before {color: black;}#sk-container-id-8 div.sk-toggleable__content {max-height: 0;max-width: 0;overflow: hidden;text-align: left;background-color: #f0f8ff;}#sk-container-id-8 div.sk-toggleable__content pre {margin: 0.2em;color: black;border-radius: 0.25em;background-color: #f0f8ff;}#sk-container-id-8 input.sk-toggleable__control:checked~div.sk-toggleable__content {max-height: 200px;max-width: 100%;overflow: auto;}#sk-container-id-8 input.sk-toggleable__control:checked~label.sk-toggleable__label-arrow:before {content: \"▾\";}#sk-container-id-8 div.sk-estimator input.sk-toggleable__control:checked~label.sk-toggleable__label {background-color: #d4ebff;}#sk-container-id-8 div.sk-label input.sk-toggleable__control:checked~label.sk-toggleable__label {background-color: #d4ebff;}#sk-container-id-8 input.sk-hidden--visually {border: 0;clip: rect(1px 1px 1px 1px);clip: rect(1px, 1px, 1px, 1px);height: 1px;margin: -1px;overflow: hidden;padding: 0;position: absolute;width: 1px;}#sk-container-id-8 div.sk-estimator {font-family: monospace;background-color: #f0f8ff;border: 1px dotted black;border-radius: 0.25em;box-sizing: border-box;margin-bottom: 0.5em;}#sk-container-id-8 div.sk-estimator:hover {background-color: #d4ebff;}#sk-container-id-8 div.sk-parallel-item::after {content: \"\";width: 100%;border-bottom: 1px solid gray;flex-grow: 1;}#sk-container-id-8 div.sk-label:hover label.sk-toggleable__label {background-color: #d4ebff;}#sk-container-id-8 div.sk-serial::before {content: \"\";position: absolute;border-left: 1px solid gray;box-sizing: border-box;top: 0;bottom: 0;left: 50%;z-index: 0;}#sk-container-id-8 div.sk-serial {display: flex;flex-direction: column;align-items: center;background-color: white;padding-right: 0.2em;padding-left: 0.2em;position: relative;}#sk-container-id-8 div.sk-item {position: relative;z-index: 1;}#sk-container-id-8 div.sk-parallel {display: flex;align-items: stretch;justify-content: center;background-color: white;position: relative;}#sk-container-id-8 div.sk-item::before, #sk-container-id-8 div.sk-parallel-item::before {content: \"\";position: absolute;border-left: 1px solid gray;box-sizing: border-box;top: 0;bottom: 0;left: 50%;z-index: -1;}#sk-container-id-8 div.sk-parallel-item {display: flex;flex-direction: column;z-index: 1;position: relative;background-color: white;}#sk-container-id-8 div.sk-parallel-item:first-child::after {align-self: flex-end;width: 50%;}#sk-container-id-8 div.sk-parallel-item:last-child::after {align-self: flex-start;width: 50%;}#sk-container-id-8 div.sk-parallel-item:only-child::after {width: 0;}#sk-container-id-8 div.sk-dashed-wrapped {border: 1px dashed gray;margin: 0 0.4em 0.5em 0.4em;box-sizing: border-box;padding-bottom: 0.4em;background-color: white;}#sk-container-id-8 div.sk-label label {font-family: monospace;font-weight: bold;display: inline-block;line-height: 1.2em;}#sk-container-id-8 div.sk-label-container {text-align: center;}#sk-container-id-8 div.sk-container {/* jupyter's `normalize.less` sets `[hidden] { display: none; }` but bootstrap.min.css set `[hidden] { display: none !important; }` so we also need the `!important` here to be able to override the default hidden behavior on the sphinx rendered scikit-learn.org. See: https://github.com/scikit-learn/scikit-learn/issues/21755 */display: inline-block !important;position: relative;}#sk-container-id-8 div.sk-text-repr-fallback {display: none;}</style><div id=\"sk-container-id-8\" class=\"sk-top-container\"><div class=\"sk-text-repr-fallback\"><pre>SVC(C=1, gamma=1, probability=True)</pre><b>In a Jupyter environment, please rerun this cell to show the HTML representation or trust the notebook. <br />On GitHub, the HTML representation is unable to render, please try loading this page with nbviewer.org.</b></div><div class=\"sk-container\" hidden><div class=\"sk-item\"><div class=\"sk-estimator sk-toggleable\"><input class=\"sk-toggleable__control sk-hidden--visually\" id=\"sk-estimator-id-8\" type=\"checkbox\" checked><label for=\"sk-estimator-id-8\" class=\"sk-toggleable__label sk-toggleable__label-arrow\">SVC</label><div class=\"sk-toggleable__content\"><pre>SVC(C=1, gamma=1, probability=True)</pre></div></div></div></div></div>"
            ]
          },
          "metadata": {},
          "execution_count": 120
        }
      ]
    },
    {
      "cell_type": "code",
      "source": [
        "\n",
        "X = np.concatenate((X1,X2), axis=0)\n",
        "Y_svm=np.concatenate((np.zeros((1,20)),np.ones((1,20))), axis=1)\n",
        "Y_svm=Y_svm.ravel()\n",
        "\"\"\"Section 4: Fill in your answers here\"\"\"\n",
        "#Fit Linear SVM\n",
        "#nonlinear kernel\n",
        "#默认为 径像核函数/高斯核\n",
        "\n",
        "#C=best_parameters['C'], gamma=best_parameters['gamma'], probability=True\n",
        "# c越高，说明越不能容忍出现误差,容易过拟合。C越小，容易欠拟合。C过大或过小，泛化能力变差。C一般可以选择为：10^t , t=[- 4，4]就是0.0001 到10000。\n",
        "#默认c=1,gamma=1 / n_features\n",
        "clf=svm.SVC(C=100, gamma=1, probability=True)\n",
        "clf.fit(X,Y_svm)\n",
        "\n",
        "# clf=svm.SVC(kernel='linear',C=1000)\n",
        "# clf.fit(X,Y_svm)\n",
        "\n",
        "\n",
        "\"\"\"End of Section 4\"\"\"\n",
        "           \n",
        "fig, ax1  = plt.subplots(1,1, sharey = True)\n",
        "\n",
        "\n",
        "for i in range(0,20): \n",
        "    class_0 = ax1.scatter(t[i][0],    t[i][1],    c = 'r', marker = \"o\") # the first  20 elements for class 0\n",
        "    class_1 = ax1.scatter(t[i+20][0], t[i+20][1], c = 'b', marker = \"x\") # the latter 20 elements for class 1\n",
        "\n",
        "# plot the decision function\n",
        "xlim = ax1.get_xlim()\n",
        "ylim = ax1.get_ylim()\n",
        "\n",
        "# create grid to evaluate model\n",
        "xx = np.linspace(xlim[0], xlim[1], 30)\n",
        "yy = np.linspace(ylim[0], ylim[1], 30)\n",
        "YY, XX = np.meshgrid(yy, xx)\n",
        "xy = np.vstack([XX.ravel(), YY.ravel()]).T\n",
        "Z = clf.decision_function(xy).reshape(XX.shape)\n",
        "\n",
        "# plot decision boundary and margins\n",
        "ax1.contour(XX, YY, Z, colors='k', levels=[-1, 0, 1], alpha=0.5,\n",
        "           linestyles=['--', '-', '--'])\n",
        "\n",
        "\n",
        "ax1.set_title('SVM with Guassian kernel(C=100,gamma=1)') \n",
        "ax1.set_xlabel('Mapping feature 2')\n",
        "ax1.set_ylabel('Mapping feature 1')\n",
        "ax1.legend((class_0, class_1), ('class 0', 'class 1'), scatterpoints=1, loc='lower left', ncol=1, fontsize=10)\n",
        "# fig.savefig('Q4_Hard-margin SVM.png', dpi = 200)   # save the figure to file\n",
        "fig.show()\n",
        "# plt.close(fig) "
      ],
      "metadata": {
        "colab": {
          "base_uri": "https://localhost:8080/",
          "height": 472
        },
        "id": "aClxpqpjF_Ei",
        "outputId": "59c9c771-a89a-48b0-de1a-4e710da3906f"
      },
      "execution_count": null,
      "outputs": [
        {
          "output_type": "display_data",
          "data": {
            "text/plain": [
              "<Figure size 640x480 with 1 Axes>"
            ],
            "image/png": "[encoded data removed]"
          },
          "metadata": {}
        }
      ]
    },
    {
      "cell_type": "code",
      "source": [
        "\n",
        "clf=svm.SVC(kernel='linear',C=1000)\n",
        "clf.fit(X,Y_svm)\n",
        "\n",
        "fig, ax1  = plt.subplots(1,1, sharey = True)\n",
        "\n",
        "\n",
        "for i in range(0,20): \n",
        "    class_0 = ax1.scatter(t[i][0],    t[i][1],    c = 'r', marker = \"o\") # the first  20 elements for class 0\n",
        "    class_1 = ax1.scatter(t[i+20][0], t[i+20][1], c = 'b', marker = \"x\") # the latter 20 elements for class 1\n",
        "\n",
        "# plot the decision function\n",
        "xlim = ax1.get_xlim()\n",
        "ylim = ax1.get_ylim()\n",
        "\n",
        "# create grid to evaluate model\n",
        "xx = np.linspace(xlim[0], xlim[1], 30)\n",
        "yy = np.linspace(ylim[0], ylim[1], 30)\n",
        "  #meshgrid从坐标向量返回坐标矩阵\n",
        "YY, XX = np.meshgrid(yy, xx)\n",
        "xy = np.vstack([XX.ravel(), YY.ravel()]).T\n",
        "Z = clf.decision_function(xy).reshape(XX.shape)\n",
        "\n",
        "# plot decision boundary and margins\n",
        "ax1.contour(XX, YY, Z, colors='k', levels=[-1, 0, 1], alpha=0.5,\n",
        "           linestyles=['--', '-', '--'])\n",
        "\n",
        "\n",
        "ax1.set_title('Hard-margin SVM') \n",
        "ax1.set_xlabel('Mapping feature 2')\n",
        "ax1.set_ylabel('Mapping feature 1')\n",
        "ax1.legend((class_0, class_1), ('class 0', 'class 1'), scatterpoints=1, loc='lower left', ncol=1, fontsize=10)\n",
        "\n",
        "# fig.savefig('Q4_Hard-margin SVM.png', dpi = 200)   # save the figure to file\n",
        "fig.show()\n",
        "# plt.close(fig) "
      ],
      "metadata": {
        "colab": {
          "base_uri": "https://localhost:8080/",
          "height": 472
        },
        "id": "J2OJVfYrGgE6",
        "outputId": "0c19b23d-71e5-4b50-decd-7a32687594bd"
      },
      "execution_count": null,
      "outputs": [
        {
          "output_type": "display_data",
          "data": {
            "text/plain": [
              "<Figure size 640x480 with 1 Axes>"
            ],
            "image/png": "[encoded data removed]"
          },
          "metadata": {}
        }
      ]
    },
    {
      "cell_type": "code",
      "source": [
        "clf"
      ],
      "metadata": {
        "colab": {
          "base_uri": "https://localhost:8080/",
          "height": 74
        },
        "id": "CH33ogH8GahP",
        "outputId": "9f51e8f8-97d8-4982-cad8-28f4ba0cc715"
      },
      "execution_count": null,
      "outputs": [
        {
          "output_type": "execute_result",
          "data": {
            "text/plain": [
              "SVC(C=1000, kernel='linear')"
            ],
            "text/html": [
              "<style>#sk-container-id-9 {color: black;background-color: white;}#sk-container-id-9 pre{padding: 0;}#sk-container-id-9 div.sk-toggleable {background-color: white;}#sk-container-id-9 label.sk-toggleable__label {cursor: pointer;display: block;width: 100%;margin-bottom: 0;padding: 0.3em;box-sizing: border-box;text-align: center;}#sk-container-id-9 label.sk-toggleable__label-arrow:before {content: \"▸\";float: left;margin-right: 0.25em;color: #696969;}#sk-container-id-9 label.sk-toggleable__label-arrow:hover:before {color: black;}#sk-container-id-9 div.sk-estimator:hover label.sk-toggleable__label-arrow:before {color: black;}#sk-container-id-9 div.sk-toggleable__content {max-height: 0;max-width: 0;overflow: hidden;text-align: left;background-color: #f0f8ff;}#sk-container-id-9 div.sk-toggleable__content pre {margin: 0.2em;color: black;border-radius: 0.25em;background-color: #f0f8ff;}#sk-container-id-9 input.sk-toggleable__control:checked~div.sk-toggleable__content {max-height: 200px;max-width: 100%;overflow: auto;}#sk-container-id-9 input.sk-toggleable__control:checked~label.sk-toggleable__label-arrow:before {content: \"▾\";}#sk-container-id-9 div.sk-estimator input.sk-toggleable__control:checked~label.sk-toggleable__label {background-color: #d4ebff;}#sk-container-id-9 div.sk-label input.sk-toggleable__control:checked~label.sk-toggleable__label {background-color: #d4ebff;}#sk-container-id-9 input.sk-hidden--visually {border: 0;clip: rect(1px 1px 1px 1px);clip: rect(1px, 1px, 1px, 1px);height: 1px;margin: -1px;overflow: hidden;padding: 0;position: absolute;width: 1px;}#sk-container-id-9 div.sk-estimator {font-family: monospace;background-color: #f0f8ff;border: 1px dotted black;border-radius: 0.25em;box-sizing: border-box;margin-bottom: 0.5em;}#sk-container-id-9 div.sk-estimator:hover {background-color: #d4ebff;}#sk-container-id-9 div.sk-parallel-item::after {content: \"\";width: 100%;border-bottom: 1px solid gray;flex-grow: 1;}#sk-container-id-9 div.sk-label:hover label.sk-toggleable__label {background-color: #d4ebff;}#sk-container-id-9 div.sk-serial::before {content: \"\";position: absolute;border-left: 1px solid gray;box-sizing: border-box;top: 0;bottom: 0;left: 50%;z-index: 0;}#sk-container-id-9 div.sk-serial {display: flex;flex-direction: column;align-items: center;background-color: white;padding-right: 0.2em;padding-left: 0.2em;position: relative;}#sk-container-id-9 div.sk-item {position: relative;z-index: 1;}#sk-container-id-9 div.sk-parallel {display: flex;align-items: stretch;justify-content: center;background-color: white;position: relative;}#sk-container-id-9 div.sk-item::before, #sk-container-id-9 div.sk-parallel-item::before {content: \"\";position: absolute;border-left: 1px solid gray;box-sizing: border-box;top: 0;bottom: 0;left: 50%;z-index: -1;}#sk-container-id-9 div.sk-parallel-item {display: flex;flex-direction: column;z-index: 1;position: relative;background-color: white;}#sk-container-id-9 div.sk-parallel-item:first-child::after {align-self: flex-end;width: 50%;}#sk-container-id-9 div.sk-parallel-item:last-child::after {align-self: flex-start;width: 50%;}#sk-container-id-9 div.sk-parallel-item:only-child::after {width: 0;}#sk-container-id-9 div.sk-dashed-wrapped {border: 1px dashed gray;margin: 0 0.4em 0.5em 0.4em;box-sizing: border-box;padding-bottom: 0.4em;background-color: white;}#sk-container-id-9 div.sk-label label {font-family: monospace;font-weight: bold;display: inline-block;line-height: 1.2em;}#sk-container-id-9 div.sk-label-container {text-align: center;}#sk-container-id-9 div.sk-container {/* jupyter's `normalize.less` sets `[hidden] { display: none; }` but bootstrap.min.css set `[hidden] { display: none !important; }` so we also need the `!important` here to be able to override the default hidden behavior on the sphinx rendered scikit-learn.org. See: https://github.com/scikit-learn/scikit-learn/issues/21755 */display: inline-block !important;position: relative;}#sk-container-id-9 div.sk-text-repr-fallback {display: none;}</style><div id=\"sk-container-id-9\" class=\"sk-top-container\"><div class=\"sk-text-repr-fallback\"><pre>SVC(C=1000, kernel=&#x27;linear&#x27;)</pre><b>In a Jupyter environment, please rerun this cell to show the HTML representation or trust the notebook. <br />On GitHub, the HTML representation is unable to render, please try loading this page with nbviewer.org.</b></div><div class=\"sk-container\" hidden><div class=\"sk-item\"><div class=\"sk-estimator sk-toggleable\"><input class=\"sk-toggleable__control sk-hidden--visually\" id=\"sk-estimator-id-9\" type=\"checkbox\" checked><label for=\"sk-estimator-id-9\" class=\"sk-toggleable__label sk-toggleable__label-arrow\">SVC</label><div class=\"sk-toggleable__content\"><pre>SVC(C=1000, kernel=&#x27;linear&#x27;)</pre></div></div></div></div></div>"
            ]
          },
          "metadata": {},
          "execution_count": 123
        }
      ]
    },
    {
      "cell_type": "code",
      "source": [
        "print(yy)"
      ],
      "metadata": {
        "colab": {
          "base_uri": "https://localhost:8080/"
        },
        "id": "I3ny_IhEHrrn",
        "outputId": "77fd3fd7-f11c-4a76-b2fc-c7214b836566"
      },
      "execution_count": null,
      "outputs": [
        {
          "output_type": "stream",
          "name": "stdout",
          "text": [
            "[-2.72350279 -2.59161115 -2.4597195  -2.32782786 -2.19593621 -2.06404457\n",
            " -1.93215292 -1.80026128 -1.66836963 -1.53647799 -1.40458634 -1.2726947\n",
            " -1.14080305 -1.00891141 -0.87701976 -0.74512812 -0.61323647 -0.48134483\n",
            " -0.34945318 -0.21756154 -0.08566989  0.04622175  0.1781134   0.31000504\n",
            "  0.44189669  0.57378834  0.70567998  0.83757163  0.96946327  1.10135492]\n"
          ]
        }
      ]
    },
    {
      "cell_type": "markdown",
      "source": [
        "## Q4 Testing Stage"
      ],
      "metadata": {
        "id": "zBl8Z3uhmR1A"
      }
    },
    {
      "cell_type": "code",
      "source": [
        "fcf = glob.glob('./data/*.txt') # list .txt files only\n",
        "fcf.sort()"
      ],
      "metadata": {
        "id": "BGUMS0Q2TdEQ"
      },
      "execution_count": null,
      "outputs": []
    },
    {
      "cell_type": "code",
      "source": [
        "import glob\n",
        "import numpy as np\n",
        "import matplotlib.pyplot as plt\n",
        "import matplotlib.colors\n",
        "from mpl_toolkits.mplot3d import Axes3D\n",
        "from numpy import linalg as LA\n",
        "from sklearn import svm\n",
        "\n",
        "Y_true = [0,1,1,0,0,0,1,1,0,1]\n",
        "\n",
        "fcf = glob.glob('./data/*.txt') # list .txt files only\n",
        "fcf.sort()\n",
        "file = open(fcf[0], 'r')\n",
        "text1 = file.read() # string\n",
        "file.close()\n",
        "\n",
        "file = open(fcf[50], 'r')\n",
        "features = file.read().split()\n",
        "\n",
        "# Training data\n",
        "Xtrain = np.zeros((1,np.shape(features)[0])) # empty list\n",
        "for text_index in range(40):\n",
        "    file_temp = open(fcf[text_index], 'r')\n",
        "    text_temp = file_temp.read()\n",
        "    occurence_temp = []\n",
        "    for feature_index in features:\n",
        "        occurence_temp.append(text_temp.count(feature_index)) \n",
        "    Xtrain = np.concatenate((Xtrain, [occurence_temp]), axis = 0) # shape: 41-by-13\n",
        "\n",
        "Xtrain = np.delete(Xtrain, (0), axis = 0) # remove the first empty row \n",
        "\n",
        "# Testing data\n",
        "Xtest = np.zeros((1,np.shape(features)[0])) # empty list\n",
        "for text_index in range(40,50):\n",
        "    file_temp = open(fcf[text_index], 'r')\n",
        "    text_temp = file_temp.read()\n",
        "    occurence_temp = []\n",
        "    for feature_index in features:\n",
        "        occurence_temp.append(text_temp.count(feature_index)) \n",
        "    Xtest = np.concatenate((Xtest, [occurence_temp]), axis = 0) # shape: 11-by-13\n",
        "    \n",
        "Xtest = np.delete(Xtest, (0), axis = 0) # remove the first empty row\n",
        "\n",
        "#XTX = np.dot(Xtrain.T, Xtrain)\n",
        "\n",
        "\n",
        "# Subtracting from the mean and scaling are not required. But it is acceptable if you did so.\n",
        "meanX = np.mean(Xtrain,axis=0)\n",
        "CtrX = Xtrain-meanX\n",
        "CtrXtest = Xtest-meanX\n",
        "S1 = np.dot(np.transpose(CtrX),CtrX)\n",
        "XTX = 1.0/(Xtrain.shape[0]-1)*S1\n",
        "\n",
        "w, v = LA.eig(XTX) # compute eigenvalues and eigenvectors\n",
        "\n",
        "# Due to the descending order of eigenvalues in w, here we choose the first two columns of v.\n",
        "PC = v[:,0:2] # principal comonents; shape: 13-by-2\n",
        "t = np.dot(CtrX,PC) # PC scores for training data; shape: 40-by-2\n",
        "tt = np.dot(CtrXtest,PC) # PC scores for testing data; shape: 10-by-2 \n",
        "\n",
        "# ==============  Perceptron =============================\n",
        "\n",
        "\"\"\"\n",
        "        You may refer to pg. 26, Ch2 for the perceptron example.    \n",
        "\"\"\"\n",
        "\n",
        "\n",
        "X1 = t[0:20][:]\n",
        "X2 = t[20:40][:]\n",
        "\n",
        "Y1 = np.concatenate((np.ones((20,1)),X1), axis=1)\n",
        "Y2 = np.concatenate((np.ones((20,1))*-1,-X2), axis=1)\n",
        "Yt = np.concatenate((Y1,Y2), axis=0)  # shape: 40-by-3\n",
        "\n",
        "# Initialize\n",
        "a = np.zeros((3,1))\n",
        "\n",
        "# no. of misclassified samples\n",
        "sum_wrong = 1\n",
        "\n",
        "a_iter = a\n",
        "k = 0\n",
        "\n",
        "while sum_wrong > 0 and k < 1000:\n",
        "    wrong = np.dot(Yt,a_iter) <= 0\n",
        "    sum_wrong = sum(wrong)\n",
        "    sum1 = sum(wrong*np.ones((1,3))*Yt)\n",
        "    a_iter = a_iter+sum1.reshape(3,1)\n",
        "    k=k+1\n",
        "    \n",
        "a_con = a_iter\n",
        "\n",
        "Y_perceptron = []\n",
        "for i in range(10):\n",
        "    w_temp = np.array([np.append(1, tt[i][:])]).T # (3,1)\n",
        "    J = np.dot(a_con.T, w_temp)\n",
        "    if J > 0:\n",
        "        Y_perceptron.append(0)\n",
        "    else:\n",
        "        Y_perceptron.append(1)\n",
        "\n",
        "error_perceptron_projected = sum(sum(abs(np.array([Y_true]) - np.array([Y_perceptron]))))/10\n",
        "print(\"Error rate for projected test samples by perceptron\", error_perceptron_projected)\n",
        "        \n",
        "\n",
        "\n",
        "# ============== Hard-margin SVM =========================\n",
        "\"\"\"\n",
        "        You may refer to pg. 20, Ch3 for the hard-margin SVM example.    \n",
        "\"\"\"\n",
        "X1 = t[0:20][:]\n",
        "X2 = t[20:40][:]\n",
        "X = np.concatenate((X1,X2), axis=0)\n",
        "Y_svm=np.concatenate((np.zeros((1,20)),np.ones((1,20))), axis=1)\n",
        "Y_svm=Y_svm.ravel()\n",
        "\n",
        "#Fit Linear SVM\n",
        "clf = svm.SVC(kernel='linear', C=1000)\n",
        "clf.fit(X, Y_svm)\n",
        "\n",
        "\"\"\"\n",
        "       Q4 Section 1: Put down your answers here\n",
        "\"\"\"\n",
        "Y_SVM_pred=clf.predict(tt)\n",
        "#predictor lables\n",
        "#Y_SVM_pred\n",
        "\"\"\"\n",
        "        End of Q4 Section 1    \n",
        "\"\"\"\n",
        "error_SVM_PCA = sum(sum(abs(np.array([Y_true]) - np.array([Y_SVM_pred]))))/10\n",
        "#0.1\n",
        "print(\"Error rate for projected test samples by SVM\", error_SVM_PCA)"
      ],
      "metadata": {
        "colab": {
          "base_uri": "https://localhost:8080/"
        },
        "id": "63KVuiQWSJXF",
        "outputId": "b5d7c8ff-8b43-4bdc-c0c0-4bd17c5bb8f0"
      },
      "execution_count": null,
      "outputs": [
        {
          "output_type": "stream",
          "name": "stdout",
          "text": [
            "Error rate for projected test samples by perceptron 0.0\n",
            "Error rate for projected test samples by SVM 0.1\n"
          ]
        }
      ]
    },
    {
      "cell_type": "code",
      "source": [
        "t"
      ],
      "metadata": {
        "colab": {
          "base_uri": "https://localhost:8080/"
        },
        "id": "YeTd9bqmSqDK",
        "outputId": "1bd26c59-da12-42bf-9945-d114087aafa6"
      },
      "execution_count": null,
      "outputs": [
        {
          "output_type": "execute_result",
          "data": {
            "text/plain": [
              "array([[ 1.57530749, -0.80835655],\n",
              "       [ 1.72181359, -0.5840527 ],\n",
              "       [ 3.13660147,  2.56536295],\n",
              "       [ 1.06786769, -1.28221261],\n",
              "       [ 1.81411332,  0.11489489],\n",
              "       [ 0.99840327, -1.41791015],\n",
              "       [ 1.96061943,  0.33919873],\n",
              "       [ 1.46543335, -0.70381633],\n",
              "       [ 3.67240147,  3.58501216],\n",
              "       [ 1.35616325, -0.6509358 ],\n",
              "       [ 2.29910782,  0.88844081],\n",
              "       [ 1.16299255, -1.30988023],\n",
              "       [ 2.3183794 ,  1.10617309],\n",
              "       [ 1.61324661, -0.3212323 ],\n",
              "       [ 1.8270125 ,  0.14782304],\n",
              "       [ 1.68840539, -0.39677435],\n",
              "       [ 2.23095056,  0.91102345],\n",
              "       [ 2.57546276,  1.43587658],\n",
              "       [ 2.89780426,  2.02190923],\n",
              "       [ 1.5668695 , -0.76310106],\n",
              "       [-2.15769405, -0.05021385],\n",
              "       [-0.37991374, -1.34114122],\n",
              "       [ 0.4545463 ,  0.40254628],\n",
              "       [-0.92500022, -1.63460494],\n",
              "       [-0.67202203, -1.40552599],\n",
              "       [-4.36286082,  1.54604613],\n",
              "       [-2.67900482,  0.37096523],\n",
              "       [-0.32985111, -1.19234446],\n",
              "       [-1.61818982, -0.98004259],\n",
              "       [-2.74811158, -0.59242336],\n",
              "       [-0.67202203, -1.40552599],\n",
              "       [-6.24727304,  2.33779158],\n",
              "       [ 0.36672636,  1.98350291],\n",
              "       [-3.53586242,  0.00837739],\n",
              "       [-6.44482009,  2.32716841],\n",
              "       [-0.92500022, -1.63460494],\n",
              "       [-4.37954561,  0.42840103],\n",
              "       [-0.29895007, -1.08596573],\n",
              "       [-1.5098355 , -0.95352199],\n",
              "       [ 0.1157288 , -2.00632674]])"
            ]
          },
          "metadata": {},
          "execution_count": 132
        }
      ]
    },
    {
      "cell_type": "code",
      "source": [
        "# ==============  Perceptron =============================\n",
        "\"\"\"\n",
        "        You may refer to  Ch2 for the perceptron example.    \n",
        "\"\"\"\n",
        "X1 = Xtrain[0:20][:]\n",
        "X2 = Xtrain[20:40][:]\n",
        "\n",
        "Y1 = np.concatenate((np.ones((20,1)),X1), axis=1)\n",
        "Y2 = np.concatenate((np.ones((20,1))*-1,-X2), axis=1)\n",
        "Yt = np.concatenate((Y1,Y2), axis=0)  # shape: 40-by-3\n",
        "\n",
        "# Initialize\n",
        "a = np.zeros((14,1))\n",
        "\n",
        "# no. of misclassified samples\n",
        "sum_wrong = 1\n",
        "\n",
        "a_iter = a\n",
        "k = 0\n",
        "\n",
        "while sum_wrong > 0 and k < 1000:\n",
        "    wrong = np.dot(Yt,a_iter) <= 0\n",
        "    sum_wrong = sum(wrong)\n",
        "    sum1 = sum(wrong*np.ones((1,14))*Yt)\n",
        "    a_iter = a_iter+sum1.reshape(14,1)\n",
        "    k=k+1\n",
        "    \n",
        "a_con = a_iter\n",
        "\n",
        "Y_perceptron = []\n",
        "for i in range(10):\n",
        "    w_temp = np.array([np.append(1, Xtest[i][:])]).T # (3,1)\n",
        "    J = np.dot(a_con.T, w_temp)\n",
        "    if J > 0:\n",
        "        Y_perceptron.append(0)\n",
        "    else:\n",
        "        Y_perceptron.append(1)\n",
        "\n",
        "error_perceptron = sum(sum(abs(np.array([Y_true]) - np.array([Y_perceptron]))))/10\n",
        "print(\"Error rate for  test samples by perceptron\", error_perceptron)"
      ],
      "metadata": {
        "colab": {
          "base_uri": "https://localhost:8080/"
        },
        "id": "c6jbnB7WVWLl",
        "outputId": "cabd0546-98e3-4d5d-dd3b-cf4cbfc98f28"
      },
      "execution_count": null,
      "outputs": [
        {
          "output_type": "stream",
          "name": "stdout",
          "text": [
            "Error rate for  test samples by perceptron 0.1\n"
          ]
        }
      ]
    },
    {
      "cell_type": "code",
      "source": [
        "X1"
      ],
      "metadata": {
        "colab": {
          "base_uri": "https://localhost:8080/"
        },
        "id": "O63UkQ-6SsYy",
        "outputId": "6c8f016a-b04e-4fe8-b6c2-33ca448a8504"
      },
      "execution_count": null,
      "outputs": [
        {
          "output_type": "execute_result",
          "data": {
            "text/plain": [
              "array([[1., 0., 1., 2., 0., 1., 1., 0., 0., 0., 0., 0., 0.],\n",
              "       [1., 0., 1., 2., 1., 1., 0., 1., 0., 0., 0., 0., 0.],\n",
              "       [5., 0., 0., 0., 0., 1., 0., 1., 0., 0., 0., 0., 0.],\n",
              "       [0., 0., 0., 0., 1., 0., 0., 0., 0., 0., 0., 0., 0.],\n",
              "       [2., 0., 0., 0., 0., 0., 1., 0., 0., 0., 0., 0., 0.],\n",
              "       [0., 0., 0., 0., 0., 0., 0., 1., 0., 0., 0., 0., 0.],\n",
              "       [2., 0., 0., 0., 1., 0., 0., 1., 0., 0., 0., 0., 0.],\n",
              "       [1., 0., 0., 1., 0., 1., 0., 0., 0., 0., 0., 0., 0.],\n",
              "       [6., 0., 0., 0., 2., 0., 0., 0., 0., 1., 0., 0., 0.],\n",
              "       [1., 0., 0., 0., 0., 0., 0., 0., 0., 0., 0., 0., 0.],\n",
              "       [3., 0., 0., 1., 0., 1., 0., 0., 0., 0., 0., 0., 0.],\n",
              "       [0., 0., 0., 0., 1., 1., 1., 0., 0., 0., 0., 0., 0.],\n",
              "       [3., 0., 0., 0., 1., 0., 0., 0., 0., 0., 0., 0., 0.],\n",
              "       [1., 0., 0., 0., 2., 0., 0., 0., 0., 0., 0., 0., 0.],\n",
              "       [2., 0., 0., 0., 0., 1., 0., 0., 0., 0., 0., 0., 0.],\n",
              "       [1., 0., 0., 0., 2., 0., 1., 1., 0., 1., 0., 0., 0.],\n",
              "       [3., 0., 0., 0., 0., 0., 1., 0., 0., 0., 0., 0., 0.],\n",
              "       [3., 0., 0., 0., 3., 0., 0., 0., 0., 0., 0., 0., 0.],\n",
              "       [4., 0., 0., 0., 2., 0., 0., 1., 0., 1., 0., 0., 0.],\n",
              "       [1., 0., 0., 2., 0., 0., 1., 1., 0., 0., 0., 0., 0.]])"
            ]
          },
          "metadata": {},
          "execution_count": 130
        }
      ]
    },
    {
      "cell_type": "code",
      "source": [
        "\"\"\"\n",
        "        You may refer to pg. 20, Ch3 for the hard-margin SVM example.    \n",
        "\"\"\"\n",
        "X1 = Xtrain[0:20][:]\n",
        "X2 = Xtrain[20:40][:]\n",
        "X = np.concatenate((X1,X2), axis=0)\n",
        "\n",
        "Y_svm_all=np.concatenate((np.zeros((1,20)),np.ones((1,20))), axis=1)\n",
        "Y_svm_all=Y_svm_all.ravel()\n",
        "\n",
        "#Fit Linear SVM\n",
        "clf = svm.SVC(kernel='linear', C=1000)\n",
        "clf.fit(X, Y_svm_all)\n",
        "\n",
        "\"\"\"\n",
        "       Q4 Section 2: Put down your answers here\n",
        "\"\"\"           \n",
        "#0\n",
        "Y_SVM_pred=clf.predict(Xtest)\n",
        "\n",
        "\"\"\"\n",
        "       End of Q4 Section 2\n",
        "\"\"\"\n",
        "error_SVM = sum(sum(abs(np.array([Y_true]) - np.array([Y_SVM_pred]))))/10\n",
        "print(\"Error rate for test samples by SVM\", error_SVM)\n"
      ],
      "metadata": {
        "colab": {
          "base_uri": "https://localhost:8080/"
        },
        "id": "8oS0raO2UoaL",
        "outputId": "d389c271-8b3e-44b1-c1a2-800638dc277e"
      },
      "execution_count": null,
      "outputs": [
        {
          "output_type": "stream",
          "name": "stdout",
          "text": [
            "Error rate for test samples by SVM 0.0\n"
          ]
        }
      ]
    },
    {
      "cell_type": "code",
      "source": [],
      "metadata": {
        "id": "LYYmbTk0SJmt"
      },
      "execution_count": null,
      "outputs": []
    }
  ]
}